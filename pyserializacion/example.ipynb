{
 "metadata": {
  "language_info": {
   "codemirror_mode": {
    "name": "ipython",
    "version": 3
   },
   "file_extension": ".py",
   "mimetype": "text/x-python",
   "name": "python",
   "nbconvert_exporter": "python",
   "pygments_lexer": "ipython3",
   "version": "3.8.1-final"
  },
  "orig_nbformat": 2,
  "kernelspec": {
   "name": "Python 3.8.1 32-bit",
   "display_name": "Python 3.8.1 32-bit",
   "metadata": {
    "interpreter": {
     "hash": "ac56d879d48100ae3c7394ff235bc636b67a08ccbf8b303b61db4d5c08ae6a50"
    }
   }
  }
 },
 "nbformat": 4,
 "nbformat_minor": 2,
 "cells": [
  {
   "cell_type": "code",
   "execution_count": 43,
   "metadata": {},
   "outputs": [
    {
     "output_type": "stream",
     "name": "stdout",
     "text": [
      "{\"name\":\"John\", \"age\":31, \"city\":\"New York\"}\n"
     ]
    }
   ],
   "source": [
    " my_json_str = '{\"name\":\"John\", \"age\":31, \"city\":\"New York\"}'\n",
    " import json\n",
    " my_dict_json = json.loads(my_json_str)\n",
    " print(my_json_str)"
   ]
  },
  {
   "cell_type": "code",
   "execution_count": 44,
   "metadata": {},
   "outputs": [
    {
     "output_type": "stream",
     "name": "stdout",
     "text": [
      "John 31 New York\n"
     ]
    }
   ],
   "source": [
    "class MyObject(object):\n",
    "    def __init__(self, age:int, city:str, name:str):\n",
    "        self.name = name\n",
    "        self.age = age\n",
    "        self.city = city\n",
    "\n",
    "    def __repr__(self):\n",
    "        return f\"{self.name} {self.age} {self.city}\"\n",
    "\n",
    "my_obj = json.loads(my_json_str, object_hook=lambda data: MyObject(**data))\n",
    "\n",
    "print(my_obj)"
   ]
  },
  {
   "cell_type": "code",
   "execution_count": 45,
   "metadata": {},
   "outputs": [
    {
     "output_type": "stream",
     "name": "stdout",
     "text": [
      "\"{\\\"name\\\": \\\"John\\\", \\\"age\\\": 31, \\\"city\\\": \\\"New York\\\"}\"\n"
     ]
    }
   ],
   "source": [
    "class CustomJSONEncoder(json.JSONEncoder):\n",
    "    def default(self, obj):\n",
    "        if issubclass(type(obj), MyObject):\n",
    "            return json.dumps(obj.__dict__, default=lambda _: None)\n",
    "        return json.JSONEncoder.default(self, obj)     \n",
    "\n",
    "obj_str = json.dumps(my_obj, default=CustomJSONEncoder().default)\n",
    "print(obj_str)"
   ]
  },
  {
   "cell_type": "code",
   "execution_count": 46,
   "metadata": {},
   "outputs": [
    {
     "output_type": "stream",
     "name": "stdout",
     "text": [
      "MyObjectTuple(name='John', city='New York', age=31)\n{'name': 'John', 'city': 'New York', 'age': 31}\n"
     ]
    }
   ],
   "source": [
    "from typing import NamedTuple\n",
    "\n",
    "class MyObjectTuple(NamedTuple):\n",
    "    name:str\n",
    "    city:str\n",
    "    age:int\n",
    "\n",
    "my_obj = json.loads(my_json_str, object_hook=lambda data: MyObjectTuple(**data))\n",
    "print(my_obj)\n",
    "print((my_obj)._asdict())"
   ]
  },
  {
   "cell_type": "code",
   "execution_count": 51,
   "metadata": {},
   "outputs": [
    {
     "output_type": "stream",
     "name": "stdout",
     "text": [
      "{\"name\": \"John\", \"city\": \"New York\", \"age\": 31}\n"
     ]
    }
   ],
   "source": [
    "\n",
    "print(json.dumps(my_obj._asdict()))"
   ]
  },
  {
   "cell_type": "code",
   "execution_count": null,
   "metadata": {},
   "outputs": [],
   "source": []
  }
 ]
}